{
  "cells": [
    {
      "attachments": {},
      "cell_type": "markdown",
      "metadata": {},
      "source": [
        "# FSRS4Anki v3.17.1 Optimizer"
      ]
    },
    {
      "attachments": {},
      "cell_type": "markdown",
      "metadata": {
        "id": "lurCmW0Jqz3s"
      },
      "source": [
        "[![open in colab](https://colab.research.google.com/assets/colab-badge.svg)](https://colab.research.google.com/github/open-spaced-repetition/fsrs4anki/blob/v3.17.1/fsrs4anki_optimizer.ipynb)\n",
        "\n",
        "↑ Click the above button to open the optimizer on Google Colab.\n",
        "\n",
        "> If you can't see the button and are located in the Chinese Mainland, please use a proxy or VPN."
      ]
    },
    {
      "attachments": {},
      "cell_type": "markdown",
      "metadata": {
        "id": "wG7bBfGJFbMr"
      },
      "source": [
        "Upload your **Anki Deck Package (.apkg)** file or **Anki Collection Package (.colpkg)** file on the `Left sidebar -> Files`, drag and drop your file in the current directory (not the `sample_data` directory). \n",
        "\n",
        "No need to include media. Need to include scheduling information. \n",
        "\n",
        "> If you use the latest version of Anki, please check the box `Support older Anki versions (slower/larger files)` when you export.\n",
        "\n",
        "You can export it via `File -> Export...` or `Ctrl + E` in the main window of Anki.\n",
        "\n",
        "Then replace the `filename` with yours in the next code cell. And set the `timezone` and `next_day_starts_at` which can be found in your preferences of Anki.\n",
        "\n",
        "After that, just run all (`Runtime -> Run all` or `Ctrl + F9`) and wait for minutes. You can see the optimal parameters in section **2.3 Result**. Copy them, replace the parameters in `fsrs4anki_scheduler.js`, and paste them into the custom scheduling of your deck options (require Anki version >= 2.1.55).\n",
        "\n",
        "**NOTE**: The default output is generated from my review logs. If you find the output is the same as mine, maybe your notebook hasn't run there.\n",
        "\n",
        "**Contribute to SRS Research**: If you want to share your data with me, please fill this form: https://forms.gle/KaojsBbhMCytaA7h8"
      ]
    },
    {
      "cell_type": "code",
      "execution_count": 1,
      "metadata": {
        "id": "iqP70_-3EUhi"
      },
      "outputs": [],
      "source": [
        "# Here are some settings that you need to replace before running this optimizer.\n",
        "\n",
        "filename = \"collection-2022-09-18@13-21-58.colpkg\"\n",
        "# If you upload deck file, replace it with your deck filename. E.g., ALL__Learning.apkg\n",
        "# If you upload collection file, replace it with your colpgk filename. E.g., collection-2022-09-18@13-21-58.colpkg\n",
        "\n",
        "# Replace it with your timezone. I'm in China, so I use Asia/Shanghai.\n",
        "# You can find your timezone here: https://gist.github.com/heyalexej/8bf688fd67d7199be4a1682b3eec7568\n",
        "timezone = 'Asia/Shanghai'\n",
        "\n",
        "# Replace it with your Anki's setting in Preferences -> Scheduling.\n",
        "next_day_starts_at = 4\n",
        "\n",
        "# Replace it if you don't want the optimizer to use the review logs before a specific date.\n",
        "revlog_start_date = \"2006-10-05\"\n"
      ]
    },
    {
      "attachments": {},
      "cell_type": "markdown",
      "metadata": {
        "id": "bLFVNmG2qd06"
      },
      "source": [
        "## 1 Build dataset"
      ]
    },
    {
      "attachments": {},
      "cell_type": "markdown",
      "metadata": {
        "id": "EkzFeKawqgbs"
      },
      "source": [
        "### 1.1 Extract Anki collection & deck file"
      ]
    },
    {
      "cell_type": "code",
      "execution_count": 2,
      "metadata": {
        "colab": {
          "base_uri": "https://localhost:8080/"
        },
        "id": "KD2js_wEr_Bs",
        "outputId": "42653d9e-316e-40bc-bd1d-f3a0e2b246c7"
      },
      "outputs": [
        {
          "name": "stdout",
          "output_type": "stream",
          "text": [
            "Extract successfully!\n"
          ]
        }
      ],
      "source": [
        "import zipfile\n",
        "import sqlite3\n",
        "import time\n",
        "from tqdm import notebook\n",
        "import pandas as pd\n",
        "import numpy as np\n",
        "import os\n",
        "from datetime import timedelta, datetime\n",
        "import matplotlib.pyplot as plt\n",
        "import math\n",
        "import sys\n",
        "import torch\n",
        "from torch import nn\n",
        "from sklearn.utils import shuffle\n",
        "# Extract the collection file or deck file to get the .anki21 database.\n",
        "with zipfile.ZipFile(f'./{filename}', 'r') as zip_ref:\n",
        "    zip_ref.extractall('./')\n",
        "    print(\"Extract successfully!\")\n"
      ]
    },
    {
      "attachments": {},
      "cell_type": "markdown",
      "metadata": {
        "id": "dKpy4VfqGmaL"
      },
      "source": [
        "### 1.2 Create time-series feature & analysis\n",
        "\n",
        "The following code cell will extract the review logs from your Anki collection and preprocess them to a trainset which is saved in `revlog_history.tsv`.\n",
        "\n",
        "The time-series features are important in optimizing the model's parameters. For more detail, please see my paper: https://www.maimemo.com/paper/\n",
        "\n",
        "Then it will generate a concise analysis for your review logs. \n",
        "\n",
        "- The `r_history` is the history of ratings on each review. `3,3,3,1` means that you press `Good, Good, Good, Again`. It only contains the first rating for each card on the review date, i.e., when you press `Again` in review and  `Good` in relearning steps 10min later, only `Again` will be recorded.\n",
        "- The `avg_interval` is the actual average interval after you rate your cards as the `r_history`. It could be longer than the interval given by Anki's built-in scheduler because you reviewed some overdue cards.\n",
        "- The `avg_retention` is the average retention after you press as the `r_history`. `Again` counts as failed recall, and `Hard, Good and Easy` count as successful recall. Retention is the percentage of your successful recall.\n",
        "- The `stability` is the estimated memory state variable, which is an approximate interval that leads to 90% retention.\n",
        "- The `factor` is `stability / previous stability`.\n",
        "- The `group_cnt` is the number of review logs that have the same `r_history`."
      ]
    },
    {
      "cell_type": "code",
      "execution_count": 3,
      "metadata": {
        "colab": {
          "base_uri": "https://localhost:8080/"
        },
        "id": "J2IIaY3PDaaG",
        "outputId": "607916c9-da95-48dd-fdab-6bd83fbbbb40"
      },
      "outputs": [
        {
          "name": "stdout",
          "output_type": "stream",
          "text": [
            "revlog.csv saved.\n"
          ]
        },
        {
          "data": {
            "application/vnd.jupyter.widget-view+json": {
              "model_id": "e6341aaf46a64fa4b1a7d62e73d1c9d5",
              "version_major": 2,
              "version_minor": 0
            },
            "text/plain": [
              "  0%|          | 0/30711 [00:00<?, ?it/s]"
            ]
          },
          "metadata": {},
          "output_type": "display_data"
        },
        {
          "name": "stdout",
          "output_type": "stream",
          "text": [
            "Trainset saved.\n"
          ]
        },
        {
          "data": {
            "application/vnd.jupyter.widget-view+json": {
              "model_id": "daa414d740554184bb139b3baee5c834",
              "version_major": 2,
              "version_minor": 0
            },
            "text/plain": [
              "  0%|          | 0/95123 [00:00<?, ?it/s]"
            ]
          },
          "metadata": {},
          "output_type": "display_data"
        },
        {
          "name": "stdout",
          "output_type": "stream",
          "text": [
            "Retention calculated.\n"
          ]
        },
        {
          "data": {
            "application/vnd.jupyter.widget-view+json": {
              "model_id": "eece0022e24f4602add9f5180447823f",
              "version_major": 2,
              "version_minor": 0
            },
            "text/plain": [
              "  0%|          | 0/63978 [00:00<?, ?it/s]"
            ]
          },
          "metadata": {},
          "output_type": "display_data"
        },
        {
          "name": "stdout",
          "output_type": "stream",
          "text": [
            "Stability calculated.\n"
          ]
        },
        {
          "data": {
            "application/vnd.jupyter.widget-view+json": {
              "model_id": "4ce6ec9513d948b09ff9f625f8dbec08",
              "version_major": 2,
              "version_minor": 0
            },
            "text/plain": [
              "  0%|          | 0/1190 [00:00<?, ?it/s]"
            ]
          },
          "metadata": {},
          "output_type": "display_data"
        },
        {
          "name": "stdout",
          "output_type": "stream",
          "text": [
            "1:again, 2:hard, 3:good, 4:easy\n",
            "\n",
            "      r_history  avg_interval  avg_retention  stability  factor  group_cnt\n",
            "              1           1.7          0.765        1.0     inf       7997\n",
            "            1,3           3.9          0.876        4.2    4.20       4176\n",
            "          1,3,3           8.6          0.883        9.2    2.19       2711\n",
            "        1,3,3,3          18.2          0.858       14.0    1.52       1616\n",
            "      1,3,3,3,3          37.5          0.835       23.2    1.66        822\n",
            "    1,3,3,3,3,3          78.8          0.850       35.6    1.53        384\n",
            "  1,3,3,3,3,3,3         122.3          0.903       39.3    1.10        171\n",
            "              2           1.0          0.901        1.1     inf        240\n",
            "            2,3           3.5          0.946        8.3    7.55        201\n",
            "          2,3,3          11.1          0.890        7.1    0.86        160\n",
            "              3           1.5          0.962        5.4     inf       9134\n",
            "            3,3           3.9          0.966       15.2    2.81       6589\n",
            "          3,3,3           9.0          0.960       23.7    1.56       5162\n",
            "        3,3,3,3          19.4          0.942       44.2    1.86       3519\n",
            "      3,3,3,3,3          39.1          0.926       54.5    1.23       1922\n",
            "    3,3,3,3,3,3          76.6          0.930      106.8    1.96       1074\n",
            "  3,3,3,3,3,3,3         118.7          0.949      155.3    1.45        480\n",
            "3,3,3,3,3,3,3,3         131.1          0.970      617.2    3.97        100\n",
            "              4           3.8          0.966       12.1     inf      11599\n",
            "            4,3           8.1          0.975       38.9    3.21       7517\n",
            "          4,3,3          18.0          0.963       56.8    1.46       5303\n",
            "        4,3,3,3          33.3          0.952       84.3    1.48       3012\n",
            "      4,3,3,3,3          48.3          0.953      128.3    1.52       1353\n",
            "    4,3,3,3,3,3          67.3          0.958      112.9    0.88        496\n",
            "  4,3,3,3,3,3,3          77.6          0.978      113.2    1.00        244\n",
            "4,3,3,3,3,3,3,3         112.9          0.984      177.8    1.57        168\n",
            "Analysis saved!\n"
          ]
        }
      ],
      "source": [
        "if os.path.isfile(\"collection.anki21b\"):\n",
        "    os.remove(\"collection.anki21b\")\n",
        "    raise Exception(\n",
        "        \"Please export the file with `support older Anki versions` if you use the latest version of Anki.\")\n",
        "elif os.path.isfile(\"collection.anki21\"):\n",
        "    con = sqlite3.connect(\"collection.anki21\")\n",
        "elif os.path.isfile(\"collection.anki2\"):\n",
        "    con = sqlite3.connect(\"collection.anki2\")\n",
        "else:\n",
        "    raise Exception(\"Collection not exist!\")\n",
        "cur = con.cursor()\n",
        "res = cur.execute(\"SELECT * FROM revlog\")\n",
        "revlog = res.fetchall()\n",
        "\n",
        "df = pd.DataFrame(revlog)\n",
        "df.columns = ['id', 'cid', 'usn', 'r', 'ivl',\n",
        "              'last_lvl', 'factor', 'time', 'type']\n",
        "df = df[(df['cid'] <= time.time() * 1000) &\n",
        "        (df['id'] <= time.time() * 1000) &\n",
        "        (df['r'] > 0)].copy()\n",
        "df['create_date'] = pd.to_datetime(df['cid'] // 1000, unit='s')\n",
        "df['create_date'] = df['create_date'].dt.tz_localize(\n",
        "    'UTC').dt.tz_convert(timezone)\n",
        "df['review_date'] = pd.to_datetime(df['id'] // 1000, unit='s')\n",
        "df['review_date'] = df['review_date'].dt.tz_localize(\n",
        "    'UTC').dt.tz_convert(timezone)\n",
        "df.drop(df[df['review_date'].dt.year < 2006].index, inplace=True)\n",
        "df.sort_values(by=['cid', 'id'], inplace=True, ignore_index=True)\n",
        "type_sequence = np.array(df['type'])\n",
        "time_sequence = np.array(df['time'])\n",
        "df.to_csv(\"revlog.csv\", index=False)\n",
        "print(\"revlog.csv saved.\")\n",
        "df = df[df['type'] != 3].copy()\n",
        "df['real_days'] = df['review_date'] - timedelta(hours=next_day_starts_at)\n",
        "df['real_days'] = pd.DatetimeIndex(df['real_days'].dt.floor('D', ambiguous='infer', nonexistent='shift_forward')).to_julian_date()\n",
        "df.drop_duplicates(['cid', 'real_days'], keep='first', inplace=True)\n",
        "df['delta_t'] = df.real_days.diff()\n",
        "df.dropna(inplace=True)\n",
        "df['delta_t'] = df['delta_t'].astype(dtype=int)\n",
        "df['i'] = 1\n",
        "df['r_history'] = \"\"\n",
        "df['t_history'] = \"\"\n",
        "col_idx = {key: i for i, key in enumerate(df.columns)}\n",
        "\n",
        "\n",
        "# code from https://github.com/L-M-Sherlock/anki_revlog_analysis/blob/main/revlog_analysis.py\n",
        "def get_feature(x):\n",
        "    last_kind = None\n",
        "    for idx, log in enumerate(x.itertuples()):\n",
        "        if last_kind is not None and last_kind in (1, 2) and log.type == 0:\n",
        "            return x.iloc[:idx]\n",
        "        last_kind = log.type\n",
        "        if idx == 0:\n",
        "            if log.type != 0:\n",
        "                return x.iloc[:idx]\n",
        "            x.iloc[idx, col_idx['delta_t']] = 0\n",
        "        if idx == x.shape[0] - 1:\n",
        "            break\n",
        "        x.iloc[idx + 1, col_idx['i']] = x.iloc[idx, col_idx['i']] + 1\n",
        "        x.iloc[idx + 1, col_idx['t_history']] = f\"{x.iloc[idx, col_idx['t_history']]},{x.iloc[idx, col_idx['delta_t']]}\"\n",
        "        x.iloc[idx + 1, col_idx['r_history']] = f\"{x.iloc[idx, col_idx['r_history']]},{x.iloc[idx, col_idx['r']]}\"\n",
        "    return x\n",
        "\n",
        "notebook.tqdm.pandas()\n",
        "df = df.groupby('cid', as_index=False, group_keys=False).progress_apply(get_feature)\n",
        "df = df[df['id'] >= time.mktime(datetime.strptime(revlog_start_date, \"%Y-%m-%d\").timetuple()) * 1000]\n",
        "df[\"t_history\"] = df[\"t_history\"].map(lambda x: x[1:] if len(x) > 1 else x)\n",
        "df[\"r_history\"] = df[\"r_history\"].map(lambda x: x[1:] if len(x) > 1 else x)\n",
        "df.to_csv('revlog_history.tsv', sep=\"\\t\", index=False)\n",
        "print(\"Trainset saved.\")\n",
        "\n",
        "def cal_retention(group: pd.DataFrame) -> pd.DataFrame:\n",
        "    group['retention'] = round(group['r'].map(lambda x: {1: 0, 2: 1, 3: 1, 4: 1}[x]).mean(), 4)\n",
        "    group['total_cnt'] = group.shape[0]\n",
        "    return group\n",
        "\n",
        "df = df.groupby(by=['r_history', 'delta_t'], group_keys=False).progress_apply(cal_retention)\n",
        "print(\"Retention calculated.\")\n",
        "df = df.drop(columns=['id', 'cid', 'usn', 'ivl', 'last_lvl', 'factor', 'time', 'type', 'create_date', 'review_date', 'real_days', 'r', 't_history'])\n",
        "df.drop_duplicates(inplace=True)\n",
        "df['retention'] = df['retention'].map(lambda x: max(min(0.99, x), 0.01))\n",
        "\n",
        "def cal_stability(group: pd.DataFrame) -> pd.DataFrame:\n",
        "    group_cnt = sum(group['total_cnt'])\n",
        "    if group_cnt < 10:\n",
        "        return pd.DataFrame()\n",
        "    group['group_cnt'] = group_cnt\n",
        "    if group['i'].values[0] > 1:\n",
        "        r_ivl_cnt = sum(group['delta_t'] * group['retention'].map(np.log) * pow(group['total_cnt'], 2))\n",
        "        ivl_ivl_cnt = sum(group['delta_t'].map(lambda x: x ** 2) * pow(group['total_cnt'], 2))\n",
        "        group['stability'] = round(np.log(0.9) / (r_ivl_cnt / ivl_ivl_cnt), 1)\n",
        "    else:\n",
        "        group['stability'] = 0.0\n",
        "    group['avg_retention'] = round(sum(group['retention'] * pow(group['total_cnt'], 2)) / sum(pow(group['total_cnt'], 2)), 3)\n",
        "    group['avg_interval'] = round(sum(group['delta_t'] * pow(group['total_cnt'], 2)) / sum(pow(group['total_cnt'], 2)), 1)\n",
        "    del group['total_cnt']\n",
        "    del group['retention']\n",
        "    del group['delta_t']\n",
        "    return group\n",
        "\n",
        "df = df.groupby(by=['r_history'], group_keys=False).progress_apply(cal_stability)\n",
        "print(\"Stability calculated.\")\n",
        "df.reset_index(drop = True, inplace = True)\n",
        "df.drop_duplicates(inplace=True)\n",
        "df.sort_values(by=['r_history'], inplace=True, ignore_index=True)\n",
        "\n",
        "if df.shape[0] > 0:\n",
        "    for idx in notebook.tqdm(df.index):\n",
        "        item = df.loc[idx]\n",
        "        index = df[(df['i'] == item['i'] + 1) & (df['r_history'].str.startswith(item['r_history']))].index\n",
        "        df.loc[index, 'last_stability'] = item['stability']\n",
        "    df['factor'] = round(df['stability'] / df['last_stability'], 2)\n",
        "    df = df[(df['i'] >= 2) & (df['group_cnt'] >= 100)]\n",
        "    df['last_recall'] = df['r_history'].map(lambda x: x[-1])\n",
        "    df = df[df.groupby(['i', 'r_history'], group_keys=False)['group_cnt'].transform(max) == df['group_cnt']]\n",
        "    df.to_csv('./stability_for_analysis.tsv', sep='\\t', index=None)\n",
        "    print(\"1:again, 2:hard, 3:good, 4:easy\\n\")\n",
        "    print(df[df['r_history'].str.contains(r'^[1-4][^124]*$', regex=True)][['r_history', 'avg_interval', 'avg_retention', 'stability', 'factor', 'group_cnt']].to_string(index=False))\n",
        "    print(\"Analysis saved!\")"
      ]
    },
    {
      "attachments": {},
      "cell_type": "markdown",
      "metadata": {
        "id": "k_SgzC-auWmu"
      },
      "source": [
        "## 2 Optimize parameter"
      ]
    },
    {
      "attachments": {},
      "cell_type": "markdown",
      "metadata": {
        "id": "WrfBJjqCHEwJ"
      },
      "source": [
        "### 2.1 Define the model\n",
        "\n",
        "FSRS is a time-series model for predicting memory states."
      ]
    },
    {
      "cell_type": "code",
      "execution_count": 4,
      "metadata": {
        "id": "tdYp3GMLhTYm"
      },
      "outputs": [],
      "source": [
        "init_w = [1, 1, 5, -0.5, -0.5, 0.2, 1.4, -0.12, 0.8, 2, -0.2, 0.2, 1, 1, 2, 3, 4]\n",
        "'''\n",
        "w[0]: initial_stability_for_again_answer\n",
        "w[1]: initial_stability_step_per_rating\n",
        "w[2]: initial_difficulty_for_good_answer\n",
        "w[3]: initial_difficulty_step_per_rating\n",
        "w[4]: next_difficulty_step_per_rating\n",
        "w[5]: next_difficulty_reversion_to_mean_speed (used to avoid ease hell)\n",
        "w[6]: next_stability_factor_after_success\n",
        "w[7]: next_stability_stabilization_decay_after_success\n",
        "w[8]: next_stability_retrievability_gain_after_success\n",
        "w[9]: next_stability_factor_after_failure\n",
        "w[10]: next_stability_difficulty_decay_after_success\n",
        "w[11]: next_stability_stability_gain_after_failure\n",
        "w[12]: next_stability_retrievability_gain_after_failure\n",
        "w[13]: again_grade_value\n",
        "w[14]: hard_grade_value\n",
        "w[15]: good_grade_value\n",
        "w[16]: easy_grade_value\n",
        "For more details about the parameters, please see: \n",
        "https://github.com/open-spaced-repetition/fsrs4anki/wiki/Free-Spaced-Repetition-Scheduler\n",
        "'''\n",
        "\n",
        "class FSRS(nn.Module):\n",
        "    def __init__(self, w):\n",
        "        super(FSRS, self).__init__()\n",
        "        self.w = nn.Parameter(torch.FloatTensor(w))\n",
        "        self.zero = torch.FloatTensor([0.0])\n",
        "\n",
        "        \n",
        "    def forward(self, x, s, d):\n",
        "        '''\n",
        "        :param x: [review interval, review response]\n",
        "        :param s: stability\n",
        "        :param d: difficulty\n",
        "        :return:\n",
        "        '''\n",
        "\n",
        "        x_new = x.clone()\n",
        "        if x_new[1] == 1:\n",
        "          x_new[1] = self.w[13]\n",
        "        elif x_new[1] == 2:\n",
        "            x_new[1] = self.w[14]\n",
        "        elif x_new[1] == 3:\n",
        "            x_new[1] = self.w[15]\n",
        "        elif x_new[1] == 4:\n",
        "            x_new[1] = self.w[16]\n",
        "\n",
        "   \n",
        "        if torch.equal(s, self.zero):\n",
        "            # first learn, init memory states\n",
        "            new_s = self.w[0] + self.w[1] * (x_new[1] - self.w[13])\n",
        "            new_d = self.w[2] + self.w[3] * (x_new[1] - self.w[15])\n",
        "            new_d = new_d.clamp(1, 10)\n",
        "        else:\n",
        "            r = torch.exp(np.log(0.9) * x_new[0] / s)\n",
        "            new_d = d + self.w[4] * (x_new[1] - self.w[15])\n",
        "            new_d = self.mean_reversion(self.w[2], new_d)\n",
        "            new_d = new_d.clamp(1, 10)\n",
        "\n",
        "            # recall\n",
        "            if x[1] > 1:\n",
        "                new_s = s * (1 + torch.exp(self.w[6]) *\n",
        "                             (11 - new_d) *\n",
        "                             torch.pow(s, self.w[7]) *\n",
        "                             (torch.exp((1 - r) * self.w[8]) - 1))\n",
        "            # forget\n",
        "            else:\n",
        "                new_s = self.w[9] * torch.pow(new_d, self.w[10]) * torch.pow(\n",
        "                    s, self.w[11]) * torch.exp((1 - r) * self.w[12])\n",
        "        return new_s, new_d\n",
        "\n",
        "    def loss(self, s, t, r):\n",
        "        return - (r * np.log(0.9) * t / s + (1 - r) * torch.log(1 - torch.exp(np.log(0.9) * t / s)))\n",
        "\n",
        "    def mean_reversion(self, init, current):\n",
        "        return self.w[5] * init + (1-self.w[5]) * current\n",
        "\n",
        "\n",
        "class WeightClipper(object):\n",
        "    def __init__(self, frequency=1):\n",
        "        self.frequency = frequency\n",
        "\n",
        "    def __call__(self, module):\n",
        "        if hasattr(module, 'w'):\n",
        "            w = module.w.data\n",
        "            w[0] = w[0].clamp(0.1, 10)\n",
        "            w[1] = w[1].clamp(0.1, 5)\n",
        "            w[2] = w[2].clamp(1, 10)\n",
        "            w[3] = w[3].clamp(-5, -0.1)\n",
        "            w[4] = w[4].clamp(-5, -0.1)\n",
        "            w[5] = w[5].clamp(0, 0.5)\n",
        "            w[6] = w[6].clamp(0, 2)\n",
        "            w[7] = w[7].clamp(-0.2, -0.01)\n",
        "            w[8] = w[8].clamp(0.01, 1.5)\n",
        "            w[9] = w[9].clamp(0.5, 5)\n",
        "            w[10] = w[10].clamp(-2, -0.01)\n",
        "            w[11] = w[11].clamp(0.01, 0.9)\n",
        "            w[12] = w[12].clamp(0.01, 2)\n",
        "            w[13] = w[13].clamp(1, 10)\n",
        "            w[14] = w[14].clamp(1, 10)\n",
        "            w[15] = w[15].clamp(1, 10)\n",
        "            w[16] = w[16].clamp(1, 10)\n",
        "            module.w.data = w\n",
        "\n",
        "def lineToTensor(line):\n",
        "    ivl = line[0].split(',')\n",
        "    response = line[1].split(',')\n",
        "    tensor = torch.zeros(len(response), 2)\n",
        "    for li, response in enumerate(response):\n",
        "        tensor[li][0] = int(ivl[li])\n",
        "        tensor[li][1] = int(response)\n",
        "    return tensor"
      ]
    },
    {
      "attachments": {},
      "cell_type": "markdown",
      "metadata": {
        "id": "8E1dYfgQLZAC"
      },
      "source": [
        "### 2.2 Train the model\n",
        "\n",
        "The `revlog_history.tsv` generated before will be used for training the FSRS model."
      ]
    },
    {
      "cell_type": "code",
      "execution_count": 5,
      "metadata": {
        "colab": {
          "base_uri": "https://localhost:8080/"
        },
        "id": "Jht0gneShowU",
        "outputId": "aaa72b79-b454-483b-d746-df1a353b2c8f"
      },
      "outputs": [
        {
          "data": {
            "application/vnd.jupyter.widget-view+json": {
              "model_id": "91f2f664606749938c9a2a9cbdc29be4",
              "version_major": 2,
              "version_minor": 0
            },
            "text/plain": [
              "  0%|          | 0/223795 [00:00<?, ?it/s]"
            ]
          },
          "metadata": {},
          "output_type": "display_data"
        },
        {
          "name": "stdout",
          "output_type": "stream",
          "text": [
            "Tensorized!\n"
          ]
        },
        {
          "data": {
            "application/vnd.jupyter.widget-view+json": {
              "model_id": "a2d44c31c6a049298a8cbf48e33abbd8",
              "version_major": 2,
              "version_minor": 0
            },
            "text/plain": [
              "pre-train:   0%|          | 0/28970 [00:00<?, ?it/s]"
            ]
          },
          "metadata": {},
          "output_type": "display_data"
        },
        {
          "name": "stdout",
          "output_type": "stream",
          "text": [
            "w: [1.0057, 2.0059, 5.0, -0.5, -0.5, 0.2, 1.4, -0.12, 0.8, 2.0, -0.2, 0.2, 1.0, 1.0297, 1.9832, 3.3506, 5.1764]\n"
          ]
        },
        {
          "data": {
            "application/vnd.jupyter.widget-view+json": {
              "model_id": "6ea308443a694a4d850df9b26f4ba0f6",
              "version_major": 2,
              "version_minor": 0
            },
            "text/plain": [
              "train:   0%|          | 0/194825 [00:00<?, ?it/s]"
            ]
          },
          "metadata": {},
          "output_type": "display_data"
        },
        {
          "name": "stdout",
          "output_type": "stream",
          "text": [
            "iteration: 1\n",
            "w: [1.0057, 2.0059, 5.0, -0.5, -0.5, 0.2, 1.4, -0.12, 0.8, 2.0, -0.2, 0.2, 1.0, 1.0297, 1.9832, 3.3506, 5.1764]\n",
            "iteration: 19483\n",
            "w: [1.0059, 2.0059, 5.0, -0.5, -0.6143, 0.0767, 1.3356, -0.164, 0.7347, 1.9609, -0.2417, 0.2018, 0.9741, 1.0, 1.9033, 3.4545, 5.2141]\n",
            "iteration: 38965\n",
            "w: [1.0059, 2.0059, 5.0, -0.5, -0.7278, 0.0134, 1.3217, -0.113, 0.7177, 1.9308, -0.275, 0.3092, 0.9788, 1.0004, 1.8123, 3.5643, 5.3339]\n",
            "iteration: 58447\n",
            "w: [1.0059, 2.0059, 5.0, -0.5, -0.767, 0.0109, 1.3555, -0.01, 0.7436, 1.8539, -0.3494, 0.4394, 0.9394, 1.015, 1.7622, 3.6604, 5.448]\n",
            "iteration: 77929\n",
            "w: [1.0059, 2.0059, 5.0, -0.5, -0.8115, 0.0156, 1.3096, -0.0282, 0.6946, 1.8047, -0.3941, 0.5848, 0.9215, 1.0006, 1.6644, 3.8005, 5.4723]\n",
            "iteration: 97411\n",
            "w: [1.0059, 2.0059, 5.0, -0.5, -0.7836, 0.0027, 1.3244, -0.0191, 0.7048, 1.7475, -0.4463, 0.5917, 0.8769, 1.0025, 1.6475, 3.9058, 5.4758]\n",
            "iteration: 116893\n",
            "w: [1.0059, 2.0059, 5.0, -0.5, -0.8047, 0.0196, 1.3001, -0.013, 0.6764, 1.7593, -0.4332, 0.6272, 0.8443, 1.0167, 1.5764, 3.9798, 5.5184]\n",
            "iteration: 136375\n",
            "w: [1.0059, 2.0059, 5.0, -0.5, -0.7919, 0.0095, 1.3115, -0.0114, 0.6841, 1.7355, -0.4553, 0.618, 0.8205, 1.0088, 1.5606, 3.9855, 5.5988]\n",
            "iteration: 155857\n",
            "w: [1.0059, 2.0059, 5.0, -0.5, -0.783, 0.0211, 1.3136, -0.0101, 0.6846, 1.7329, -0.456, 0.6395, 0.8202, 1.0019, 1.546, 4.0083, 5.6167]\n",
            "iteration: 175339\n",
            "w: [1.0059, 2.0059, 5.0, -0.5, -0.7852, 0.0198, 1.3199, -0.011, 0.6904, 1.7274, -0.4606, 0.6327, 0.8152, 1.0004, 1.5372, 4.0198, 5.6185]\n",
            "iteration: 194821\n",
            "w: [1.0059, 2.0059, 5.0, -0.5, -0.7859, 0.0184, 1.3181, -0.0116, 0.6885, 1.7272, -0.4606, 0.6328, 0.8147, 1.0001, 1.536, 4.0232, 5.6168]\n",
            "\n",
            "Training finished!\n"
          ]
        }
      ],
      "source": [
        "model = FSRS(init_w)\n",
        "lr = 5e-4\n",
        "clipper = WeightClipper()\n",
        "optimizer = torch.optim.Adam(model.parameters(), lr=lr)\n",
        "\n",
        "dataset = pd.read_csv(\"./revlog_history.tsv\", sep='\\t', index_col=None, dtype={'r_history': str ,'t_history': str} )\n",
        "dataset = dataset[(dataset['i'] > 1) & (dataset['delta_t'] > 0) & (dataset['t_history'].str.count(',0') == 0)]\n",
        "dataset['tensor'] = dataset.progress_apply(lambda x: lineToTensor(list(zip([x['t_history']], [x['r_history']]))[0]), axis=1)\n",
        "dataset['y'] = dataset['r'].map({1: 0, 2: 1, 3: 1, 4: 1})\n",
        "print(\"Tensorized!\")\n",
        "\n",
        "pre_train_set = dataset[dataset['i'] == 2]\n",
        "# pretrain\n",
        "epoch_len = len(pre_train_set)\n",
        "pbar = notebook.tqdm(desc=\"pre-train\", colour=\"red\", total=epoch_len)\n",
        "\n",
        "\n",
        "for i, (_, row) in enumerate(shuffle(pre_train_set, random_state=2022).iterrows()):\n",
        "    model.train()\n",
        "    optimizer.zero_grad()\n",
        "    output_t = [(model.zero, model.zero)]\n",
        "    for input_t in row['tensor']:\n",
        "        output_t.append(model(input_t, *output_t[-1]))\n",
        "    loss = model.loss(output_t[-1][0], row['delta_t'], row['y'])\n",
        "    if np.isnan(loss.data.item()):\n",
        "        # Exception Case\n",
        "        print(row, output_t)\n",
        "        raise Exception('error case')\n",
        "    loss.backward()\n",
        "    optimizer.step()\n",
        "    model.apply(clipper)\n",
        "    pbar.update()\n",
        "pbar.close()\n",
        "for name, param in model.named_parameters():\n",
        "    print(f\"{name}: {list(map(lambda x: round(float(x), 4),param))}\")\n",
        "\n",
        "train_set = dataset[dataset['i'] > 2]\n",
        "epoch_len = len(train_set)\n",
        "n_epoch = 1\n",
        "print_len = max(epoch_len*n_epoch // 10, 1)\n",
        "scheduler = torch.optim.lr_scheduler.OneCycleLR(optimizer, max_lr=lr, total_steps=epoch_len * n_epoch)\n",
        "pbar = notebook.tqdm(desc=\"train\", colour=\"red\", total=epoch_len*n_epoch)\n",
        "\n",
        "for k in range(n_epoch):\n",
        "    for i, (_, row) in enumerate(shuffle(train_set, random_state=2022 + k).iterrows()):\n",
        "        model.train()\n",
        "        optimizer.zero_grad()\n",
        "        output_t = [(model.zero, model.zero)]\n",
        "        for input_t in row['tensor']:\n",
        "            output_t.append(model(input_t, *output_t[-1]))\n",
        "        loss = model.loss(output_t[-1][0], row['delta_t'], row['y'])\n",
        "        if np.isnan(loss.data.item()):\n",
        "            # Exception Case\n",
        "            print(row, output_t)\n",
        "            raise Exception('error case')\n",
        "        loss.backward()\n",
        "        for param in model.parameters():\n",
        "            param.grad[:4] = torch.zeros(4)\n",
        "        optimizer.step()\n",
        "        scheduler.step()\n",
        "        model.apply(clipper)\n",
        "        pbar.update()\n",
        "\n",
        "        if (k * epoch_len + i) % print_len == 0:\n",
        "            print(f\"iteration: {k * epoch_len + i + 1}\")\n",
        "            for name, param in model.named_parameters():\n",
        "                print(f\"{name}: {list(map(lambda x: round(float(x), 4),param))}\")\n",
        "pbar.close()\n",
        "\n",
        "w = list(map(lambda x: round(float(x), 4), dict(model.named_parameters())['w'].data))\n",
        "\n",
        "print(\"\\nTraining finished!\")\n"
      ]
    },
    {
      "attachments": {},
      "cell_type": "markdown",
      "metadata": {
        "id": "BZ4S2l7BWfzr"
      },
      "source": [
        "### 2.3 Result\n",
        "\n",
        "Copy the optimal parameters for FSRS for you in the output of next code cell after running."
      ]
    },
    {
      "cell_type": "code",
      "execution_count": 6,
      "metadata": {
        "colab": {
          "base_uri": "https://localhost:8080/"
        },
        "id": "NTnPSDA2QpUu",
        "outputId": "49f487b9-69a7-4e96-b35a-7e027f478fbd"
      },
      "outputs": [
        {
          "name": "stdout",
          "output_type": "stream",
          "text": [
            "[1.0059, 2.0059, 5.0, -0.5, -0.7859, 0.0184, 1.3181, -0.0116, 0.6885, 1.7272, -0.4606, 0.6328, 0.8147, 1.0001, 1.536, 4.0232, 5.6168]\n"
          ]
        }
      ],
      "source": [
        "print(w)"
      ]
    },
    {
      "attachments": {},
      "cell_type": "markdown",
      "metadata": {},
      "source": [
        "### 2.4 Preview"
      ]
    },
    {
      "attachments": {},
      "cell_type": "markdown",
      "metadata": {
        "id": "I_zsoDyTaTrT"
      },
      "source": [
        "You can see the memory states and intervals generated by FSRS as if you press the good in each review at the due date scheduled by FSRS."
      ]
    },
    {
      "cell_type": "code",
      "execution_count": 7,
      "metadata": {
        "colab": {
          "base_uri": "https://localhost:8080/"
        },
        "id": "iws4rtP1WKBT",
        "outputId": "890d0287-1a17-4c59-fbbf-ee54d79cd383"
      },
      "outputs": [
        {
          "name": "stdout",
          "output_type": "stream",
          "text": [
            "1:again, 2:hard, 3:good, 4:easy\n",
            "\n",
            "first rating: 1\n",
            "rating history: 1,3,3,3,3,3,3,3,3,3,3\n",
            "interval history: 0,1,2,5,11,24,52,114,248,539,1169\n",
            "difficulty history: 0,6.5,6.5,6.5,6.4,6.4,6.4,6.4,6.3,6.3,6.3\n",
            "\n",
            "first rating: 2\n",
            "rating history: 2,3,3,3,3,3,3,3,3,3,3\n",
            "interval history: 0,2,5,11,25,56,125,279,620,1376,3043\n",
            "difficulty history: 0,6.2,6.2,6.2,6.2,6.2,6.1,6.1,6.1,6.1,6.1\n",
            "\n",
            "first rating: 3\n",
            "rating history: 3,3,3,3,3,3,3,3,3,3,3\n",
            "interval history: 0,7,18,46,116,292,728,1806,4451,10903,26543\n",
            "difficulty history: 0,5.0,5.0,5.0,5.0,5.0,5.0,5.0,5.0,5.0,5.0\n",
            "\n",
            "first rating: 4\n",
            "rating history: 4,3,3,3,3,3,3,3,3,3,3\n",
            "interval history: 0,10,28,76,206,554,1476,3901,10224,26581,68560\n",
            "difficulty history: 0,4.2,4.2,4.2,4.2,4.3,4.3,4.3,4.3,4.3,4.3\n",
            "\n"
          ]
        }
      ],
      "source": [
        "requestRetention = 0.9  # recommended setting: 0.8 ~ 0.9\n",
        "\n",
        "\n",
        "class Collection:\n",
        "    def __init__(self, w):\n",
        "        self.model = FSRS(w)\n",
        "\n",
        "    def states(self, t_history, r_history):\n",
        "        with torch.no_grad():\n",
        "            line_tensor = lineToTensor(list(zip([t_history], [r_history]))[0])\n",
        "            output_t = [(self.model.zero, self.model.zero)]\n",
        "            for input_t in line_tensor:\n",
        "                output_t.append(self.model(input_t, *output_t[-1]))\n",
        "            return output_t[-1]\n",
        "\n",
        "\n",
        "my_collection = Collection(w)\n",
        "print(\"1:again, 2:hard, 3:good, 4:easy\\n\")\n",
        "for first_rating in (1,2,3,4):\n",
        "    print(f'first rating: {first_rating}')\n",
        "    t_history = \"0\"\n",
        "    d_history = \"0\"\n",
        "    r_history = f\"{first_rating}\"  # the first rating of the new card\n",
        "    # print(\"stability, difficulty, lapses\")\n",
        "    for i in range(10):\n",
        "        states = my_collection.states(t_history, r_history)\n",
        "        # print('{0:9.2f} {1:11.2f} {2:7.0f}'.format(\n",
        "            # *list(map(lambda x: round(float(x), 4), states))))\n",
        "        next_t = max(round(float(np.log(requestRetention)/np.log(0.9) * states[0])), 1)\n",
        "        difficulty = round(float(states[1]), 1)\n",
        "        t_history += f',{int(next_t)}'\n",
        "        d_history += f',{difficulty}'\n",
        "        r_history += f\",3\"\n",
        "    print(f\"rating history: {r_history}\")\n",
        "    print(f\"interval history: {t_history}\")\n",
        "    print(f\"difficulty history: {d_history}\")\n",
        "    print('')\n"
      ]
    },
    {
      "attachments": {},
      "cell_type": "markdown",
      "metadata": {},
      "source": [
        "You can change the `test_rating_sequence` to see the scheduling intervals in different ratings."
      ]
    },
    {
      "cell_type": "code",
      "execution_count": 8,
      "metadata": {},
      "outputs": [
        {
          "name": "stdout",
          "output_type": "stream",
          "text": [
            "(tensor(7.0699), tensor(5.))\n",
            "(tensor(18.0060), tensor(5.))\n",
            "(tensor(45.8190), tensor(5.))\n",
            "(tensor(116.1250), tensor(5.))\n",
            "(tensor(291.5327), tensor(5.))\n",
            "(tensor(27.1586), tensor(7.3321))\n",
            "(tensor(5.3337), tensor(9.6214))\n",
            "(tensor(7.2474), tensor(9.5363))\n",
            "(tensor(10.0677), tensor(9.4529))\n",
            "(tensor(14.2919), tensor(9.3709))\n",
            "(tensor(20.4742), tensor(9.2905))\n",
            "(tensor(29.6759), tensor(9.2116))\n",
            "rating history: 3,3,3,3,3,1,1,3,3,3,3,3\n",
            "interval history: 0,7,18,46,116,292,27,5,7,10,14,20,30\n",
            "difficulty history: 0,5.0,5.0,5.0,5.0,5.0,7.3,9.6,9.5,9.5,9.4,9.3,9.2\n"
          ]
        }
      ],
      "source": [
        "test_rating_sequence = \"3,3,3,3,3,1,1,3,3,3,3,3\"\n",
        "requestRetention = 0.9  # recommended setting: 0.8 ~ 0.9\n",
        "easyBonus = 1.3\n",
        "hardInterval = 1.2\n",
        "\n",
        "t_history = \"0\"\n",
        "d_history = \"0\"\n",
        "for i in range(len(test_rating_sequence.split(','))):\n",
        "    rating = test_rating_sequence[2*i]\n",
        "    last_t = int(t_history.split(',')[-1])\n",
        "    r_history = test_rating_sequence[:2*i+1]\n",
        "    states = my_collection.states(t_history, r_history)\n",
        "    print(states)\n",
        "    next_t = max(1,round(float(np.log(requestRetention)/np.log(0.9) * states[0])))\n",
        "    if rating == '4':\n",
        "        next_t = round(next_t * easyBonus)\n",
        "    elif rating == '2':\n",
        "        next_t = round(last_t * hardInterval)\n",
        "    t_history += f',{int(next_t)}'\n",
        "    difficulty = round(float(states[1]), 1)\n",
        "    d_history += f',{difficulty}'\n",
        "print(f\"rating history: {test_rating_sequence}\")\n",
        "print(f\"interval history: {t_history}\")\n",
        "print(f\"difficulty history: {d_history}\")"
      ]
    },
    {
      "attachments": {},
      "cell_type": "markdown",
      "metadata": {},
      "source": [
        "### 2.5 Predict memory states and distribution of difficulty\n",
        "\n",
        "Predict memory states for each review and save them in `prediction.tsv`.\n",
        "\n",
        "Meanwhile, it will count the distribution of difficulty."
      ]
    },
    {
      "cell_type": "code",
      "execution_count": 9,
      "metadata": {},
      "outputs": [
        {
          "data": {
            "application/vnd.jupyter.widget-view+json": {
              "model_id": "2e7c891dd7cd46f7bae565a0a8f50423",
              "version_major": 2,
              "version_minor": 0
            },
            "text/plain": [
              "  0%|          | 0/117599 [00:00<?, ?it/s]"
            ]
          },
          "metadata": {},
          "output_type": "display_data"
        },
        {
          "name": "stdout",
          "output_type": "stream",
          "text": [
            "prediction.tsv saved.\n",
            "difficulty\n",
            "1     0.002154\n",
            "2     0.010411\n",
            "3     0.037159\n",
            "4     0.150571\n",
            "5     0.145915\n",
            "6     0.085900\n",
            "7     0.109743\n",
            "8     0.053455\n",
            "9     0.093282\n",
            "10    0.311410\n",
            "Name: count, dtype: float64\n"
          ]
        }
      ],
      "source": [
        "def predict_memory_states(group):\n",
        "    states = my_collection.states(*group.name)\n",
        "    group['stability'] = float(states[0])\n",
        "    group['difficulty'] = float(states[1])\n",
        "    group['count'] = len(group)\n",
        "    return pd.DataFrame({\n",
        "        'r_history': [group.name[1]], \n",
        "        't_history': [group.name[0]], \n",
        "        'stability': [round(float(states[0]),2)], \n",
        "        'difficulty': [round(float(states[1]),2)], \n",
        "        'count': [len(group)] \n",
        "    })\n",
        "\n",
        "prediction = dataset.groupby(by=['t_history', 'r_history']).progress_apply(predict_memory_states)\n",
        "prediction.reset_index(drop=True, inplace=True)\n",
        "prediction.sort_values(by=['r_history'], inplace=True)\n",
        "prediction.to_csv(\"./prediction.tsv\", sep='\\t', index=None)\n",
        "print(\"prediction.tsv saved.\")\n",
        "prediction['difficulty'] = prediction['difficulty'].map(lambda x: int(round(x)))\n",
        "difficulty_distribution = prediction.groupby(by=['difficulty'])['count'].sum() / prediction['count'].sum()\n",
        "print(difficulty_distribution)\n",
        "difficulty_distribution_padding = np.zeros(10)\n",
        "for i in range(10):\n",
        "    if i+1 in difficulty_distribution.index:\n",
        "        difficulty_distribution_padding[i] = difficulty_distribution.loc[i+1]"
      ]
    },
    {
      "attachments": {},
      "cell_type": "markdown",
      "metadata": {},
      "source": [
        "## 3 Optimize retention to minimize the time of reviews\n",
        "\n",
        "Calculate the optimal retention to minimize the time for long-term memory consolidation. It is an experimental feature. You can use the simulator to get more accurate results:\n",
        "\n",
        "https://github.com/open-spaced-repetition/fsrs4anki/blob/main/fsrs4anki_simulator.ipynb"
      ]
    },
    {
      "cell_type": "code",
      "execution_count": 10,
      "metadata": {},
      "outputs": [
        {
          "name": "stdout",
          "output_type": "stream",
          "text": [
            "average time for failed cards: 25.0s\n",
            "average time for recalled cards: 8.0s\n",
            "terminal stability:  361.62\n"
          ]
        },
        {
          "data": {
            "application/vnd.jupyter.widget-view+json": {
              "model_id": "d95eeaacf7294694946c25d28847a622",
              "version_major": 2,
              "version_minor": 0
            },
            "text/plain": [
              "  0%|          | 0/15 [00:00<?, ?it/s]"
            ]
          },
          "metadata": {},
          "output_type": "display_data"
        },
        {
          "ename": "IndexError",
          "evalue": "list index out of range",
          "output_type": "error",
          "traceback": [
            "\u001b[0;31m---------------------------------------------------------------------------\u001b[0m",
            "\u001b[0;31mIndexError\u001b[0m                                Traceback (most recent call last)",
            "\u001b[1;32m/Users/jarrettye/Codes/fsrs4anki/fsrs4anki_optimizer.ipynb 单元格 25\u001b[0m in \u001b[0;36m5\n\u001b[1;32m     <a href='vscode-notebook-cell:/Users/jarrettye/Codes/fsrs4anki/fsrs4anki_optimizer.ipynb#X33sZmlsZQ%3D%3D?line=51'>52</a>\u001b[0m time_list[:,:\u001b[39m-\u001b[39m\u001b[39m1\u001b[39m] \u001b[39m=\u001b[39m max_time\n\u001b[1;32m     <a href='vscode-notebook-cell:/Users/jarrettye/Codes/fsrs4anki/fsrs4anki_optimizer.ipynb#X33sZmlsZQ%3D%3D?line=52'>53</a>\u001b[0m \u001b[39mfor\u001b[39;00m d \u001b[39min\u001b[39;00m \u001b[39mrange\u001b[39m(d_range, \u001b[39m0\u001b[39m, \u001b[39m-\u001b[39m\u001b[39m1\u001b[39m):\n\u001b[0;32m---> <a href='vscode-notebook-cell:/Users/jarrettye/Codes/fsrs4anki/fsrs4anki_optimizer.ipynb#X33sZmlsZQ%3D%3D?line=53'>54</a>\u001b[0m     s0 \u001b[39m=\u001b[39m init_stability(d)\n\u001b[1;32m     <a href='vscode-notebook-cell:/Users/jarrettye/Codes/fsrs4anki/fsrs4anki_optimizer.ipynb#X33sZmlsZQ%3D%3D?line=54'>55</a>\u001b[0m     s0_index \u001b[39m=\u001b[39m stability2index(s0)\n\u001b[1;32m     <a href='vscode-notebook-cell:/Users/jarrettye/Codes/fsrs4anki/fsrs4anki_optimizer.ipynb#X33sZmlsZQ%3D%3D?line=55'>56</a>\u001b[0m     diff \u001b[39m=\u001b[39m max_time\n",
            "\u001b[1;32m/Users/jarrettye/Codes/fsrs4anki/fsrs4anki_optimizer.ipynb 单元格 25\u001b[0m in \u001b[0;36m3\n\u001b[1;32m     <a href='vscode-notebook-cell:/Users/jarrettye/Codes/fsrs4anki/fsrs4anki_optimizer.ipynb#X33sZmlsZQ%3D%3D?line=34'>35</a>\u001b[0m \u001b[39mdef\u001b[39;00m \u001b[39minit_stability\u001b[39m(d):\n\u001b[0;32m---> <a href='vscode-notebook-cell:/Users/jarrettye/Codes/fsrs4anki/fsrs4anki_optimizer.ipynb#X33sZmlsZQ%3D%3D?line=35'>36</a>\u001b[0m     \u001b[39mreturn\u001b[39;00m \u001b[39mmax\u001b[39m(w[\u001b[39mint\u001b[39;49m((d \u001b[39m-\u001b[39;49m w[\u001b[39m4\u001b[39;49m]) \u001b[39m/\u001b[39;49m w[\u001b[39m5\u001b[39;49m] \u001b[39m+\u001b[39;49m \u001b[39m2\u001b[39;49m)\u001b[39m-\u001b[39;49m\u001b[39m1\u001b[39;49m] , np\u001b[39m.\u001b[39mpower(base, \u001b[39m-\u001b[39mindex_offset))\n",
            "\u001b[0;31mIndexError\u001b[0m: list index out of range"
          ]
        }
      ],
      "source": [
        "base = 1.01\n",
        "index_len = 793\n",
        "index_offset = 200\n",
        "d_range = 10\n",
        "d_offset = 1\n",
        "r_time = 8\n",
        "f_time = 25\n",
        "max_time = 200000\n",
        "\n",
        "type_block = dict()\n",
        "type_count = dict()\n",
        "type_time = dict()\n",
        "last_t = type_sequence[0]\n",
        "type_block[last_t] = 1\n",
        "type_count[last_t] = 1\n",
        "type_time[last_t] = time_sequence[0]\n",
        "for i,t in enumerate(type_sequence[1:]):\n",
        "    type_count[t] = type_count.setdefault(t, 0) + 1\n",
        "    type_time[t] = type_time.setdefault(t, 0) + time_sequence[i]\n",
        "    if t != last_t:\n",
        "        type_block[t] = type_block.setdefault(t, 0) + 1\n",
        "    last_t = t\n",
        "\n",
        "r_time = round(type_time[1]/type_count[1]/1000, 1)\n",
        "\n",
        "if 2 in type_count and 2 in type_block:\n",
        "    f_time = round(type_time[2]/type_block[2]/1000 + r_time, 1)\n",
        "\n",
        "print(f\"average time for failed cards: {f_time}s\")\n",
        "print(f\"average time for recalled cards: {r_time}s\")\n",
        "\n",
        "def stability2index(stability):\n",
        "    return int(round(np.log(stability) / np.log(base)) + index_offset)\n",
        "\n",
        "def init_stability(d):\n",
        "    return max(w[int((d - w[4]) / w[5] + 2)-1] , np.power(base, -index_offset))\n",
        "\n",
        "def cal_next_recall_stability(s, r, d, response):\n",
        "    if response == 1:\n",
        "        return s * (1 + np.exp(w[8]) * (11 - d) * np.power(s, w[9]) * (np.exp((1 - r) * w[10]) - 1))\n",
        "    else:\n",
        "        return w[11] * np.power(d, w[12]) * np.power(s, w[13]) * np.exp((1 - r) * w[14])\n",
        "\n",
        "\n",
        "stability_list = np.array([np.power(base, i - index_offset) for i in range(index_len)])\n",
        "print(f\"terminal stability: {stability_list.max(): .2f}\")\n",
        "df = pd.DataFrame(columns=[\"retention\", \"difficulty\", \"time\"])\n",
        "\n",
        "for percentage in notebook.tqdm(range(96, 66, -2)):\n",
        "    recall = percentage / 100\n",
        "    time_list = np.zeros((d_range, index_len))\n",
        "    time_list[:,:-1] = max_time\n",
        "    for d in range(d_range, 0, -1):\n",
        "        s0 = init_stability(d)\n",
        "        s0_index = stability2index(s0)\n",
        "        diff = max_time\n",
        "        while diff > 0.1:\n",
        "            s0_time = time_list[d - 1][s0_index]\n",
        "            for s_index in range(index_len - 2, -1, -1):\n",
        "                stability = stability_list[s_index];\n",
        "                interval = max(1, round(stability * np.log(recall) / np.log(0.9)))\n",
        "                p_recall = np.power(0.9, interval / stability)\n",
        "                recall_s = cal_next_recall_stability(stability, p_recall, d, 1)\n",
        "                forget_d = min(d + d_offset, 10)\n",
        "                forget_s = cal_next_recall_stability(stability, p_recall, forget_d, 0)\n",
        "                recall_s_index = min(stability2index(recall_s), index_len - 1)\n",
        "                forget_s_index = min(max(stability2index(forget_s), 0), index_len - 1)\n",
        "                recall_time = time_list[d - 1][recall_s_index] + r_time\n",
        "                forget_time = time_list[forget_d - 1][forget_s_index] + f_time\n",
        "                exp_time = p_recall * recall_time + (1.0 - p_recall) * forget_time\n",
        "                if exp_time < time_list[d - 1][s_index]:\n",
        "                    time_list[d - 1][s_index] = exp_time\n",
        "            diff = s0_time - time_list[d - 1][s0_index]\n",
        "        df.loc[0 if pd.isnull(df.index.max()) else df.index.max() + 1] = [recall, d, s0_time]\n",
        "\n",
        "df.sort_values(by=[\"difficulty\", \"retention\"], inplace=True)\n",
        "df.to_csv(\"./expected_time.csv\", index=False)\n",
        "print(\"expected_time.csv saved.\")\n",
        "\n",
        "optimal_retention_list = np.zeros(10)\n",
        "for d in range(1, d_range+1):\n",
        "    retention = df[df[\"difficulty\"] == d][\"retention\"]\n",
        "    time = df[df[\"difficulty\"] == d][\"time\"]\n",
        "    optimal_retention = retention.iat[time.argmin()]\n",
        "    optimal_retention_list[d-1] = optimal_retention\n",
        "    plt.plot(retention, time, label=f\"d={d}, r={optimal_retention}\")\n",
        "print(f\"\\n-----suggested retention (experimental): {np.inner(difficulty_distribution_padding, optimal_retention_list):.2f}-----\")\n",
        "plt.ylabel(\"expected time (second)\")\n",
        "plt.xlabel(\"retention\")\n",
        "plt.legend()\n",
        "plt.grid()\n",
        "plt.semilogy()\n",
        "plt.show()"
      ]
    },
    {
      "attachments": {},
      "cell_type": "markdown",
      "metadata": {},
      "source": [
        "## 4 Evaluate the model"
      ]
    },
    {
      "attachments": {},
      "cell_type": "markdown",
      "metadata": {},
      "source": [
        "### 4.1 Loss\n",
        "\n",
        "Evaluate the model with the log loss. It will compare the log loss between initial model and trained model."
      ]
    },
    {
      "cell_type": "code",
      "execution_count": 11,
      "metadata": {},
      "outputs": [
        {
          "data": {
            "application/vnd.jupyter.widget-view+json": {
              "model_id": "58fe6edf655c441e9aac9bedb0e18119",
              "version_major": 2,
              "version_minor": 0
            },
            "text/plain": [
              "  0%|          | 0/223795 [00:00<?, ?it/s]"
            ]
          },
          "metadata": {},
          "output_type": "display_data"
        },
        {
          "name": "stdout",
          "output_type": "stream",
          "text": [
            "Loss before training: 0.3403\n"
          ]
        },
        {
          "data": {
            "application/vnd.jupyter.widget-view+json": {
              "model_id": "109a1a90de604b2eaa6802edcf507ab9",
              "version_major": 2,
              "version_minor": 0
            },
            "text/plain": [
              "  0%|          | 0/223795 [00:00<?, ?it/s]"
            ]
          },
          "metadata": {},
          "output_type": "display_data"
        },
        {
          "name": "stdout",
          "output_type": "stream",
          "text": [
            "Loss after training: 0.3156\n"
          ]
        }
      ],
      "source": [
        "my_collection = Collection(init_w)\n",
        "dataset['stability'] = dataset.progress_apply(lambda row: my_collection.states(row['t_history'], row['r_history'])[0].item(), axis=1)\n",
        "dataset['p'] = np.exp(np.log(0.9) * dataset['delta_t'] / dataset['stability'])\n",
        "dataset['log_loss'] = dataset.apply(lambda row: - np.log(row['p']) if row['y'] == 1 else - np.log(1 - row['p']), axis=1)\n",
        "print(f\"Loss before training: {dataset['log_loss'].mean():.4f}\")\n",
        "\n",
        "my_collection = Collection(w)\n",
        "dataset['stability'] = dataset.progress_apply(lambda row: my_collection.states(row['t_history'], row['r_history'])[0].item(), axis=1)\n",
        "dataset['p'] = np.exp(np.log(0.9) * dataset['delta_t'] / dataset['stability'])\n",
        "dataset['log_loss'] = dataset.apply(lambda row: - np.log(row['p']) if row['y'] == 1 else - np.log(1 - row['p']), axis=1)\n",
        "print(f\"Loss after training: {dataset['log_loss'].mean():.4f}\")"
      ]
    },
    {
      "attachments": {},
      "cell_type": "markdown",
      "metadata": {},
      "source": [
        "### 4.2 Calibration graph\n",
        "\n",
        "1. FSRS predicts the stability and retention for each review.\n",
        "2. Reviews are grouped into 40 bins according to their predicted retention.\n",
        "3. Count the true retention of each bin.\n",
        "4. Plot (predicted retention, true retention) in the line graph.\n",
        "5. Plot (predicted retention, size of bin) in the bar graph.\n",
        "6. Combine these graphs to create the calibration graph.\n",
        "\n",
        "Ideally, the blue line should be aligned with the orange one. If the blue line is higher than the orange line, the FSRS underestimates the retention. When the size of reviews within a bin is small, actual retention may deviate largely, which is normal.\n",
        "\n",
        "R-squared (aka the coefficient of determination), is the proportion of the variation in the dependent variable that is predictable from the independent variable(s). The higher the R-squared, the better the model fits your data. For details, please see https://en.wikipedia.org/wiki/Coefficient_of_determination\n",
        "\n",
        "RMSE (root mean squared error) is the square root of the average of squared differences between prediction and actual observation. The lower the RMSE, the better the model fits your data. For details, please see https://en.wikipedia.org/wiki/Root-mean-square_deviation"
      ]
    },
    {
      "cell_type": "code",
      "execution_count": 12,
      "metadata": {},
      "outputs": [
        {
          "name": "stdout",
          "output_type": "stream",
          "text": [
            "R-squared: 0.8975\n",
            "RMSE: 0.0205\n"
          ]
        },
        {
          "data": {
            "image/png": "[encoded data removed]",
            "text/plain": [
              "<Figure size 640x480 with 2 Axes>"
            ]
          },
          "metadata": {},
          "output_type": "display_data"
        }
      ],
      "source": [
        "from sklearn.metrics import mean_squared_error, r2_score\n",
        "\n",
        "\n",
        "# code from https://github.com/papousek/duolingo-halflife-regression/blob/master/evaluation.py\n",
        "def load_brier(predictions, real, bins=20):\n",
        "    counts = np.zeros(bins)\n",
        "    correct = np.zeros(bins)\n",
        "    prediction = np.zeros(bins)\n",
        "    for p, r in zip(predictions, real):\n",
        "        bin = min(int(p * bins), bins - 1)\n",
        "        counts[bin] += 1\n",
        "        correct[bin] += r\n",
        "        prediction[bin] += p\n",
        "    prediction_means = prediction / counts\n",
        "    prediction_means[np.isnan(prediction_means)] = ((np.arange(bins) + 0.5) / bins)[np.isnan(prediction_means)]\n",
        "    correct_means = correct / counts\n",
        "    correct_means[np.isnan(correct_means)] = 0\n",
        "    size = len(predictions)\n",
        "    answer_mean = sum(correct) / size\n",
        "    return {\n",
        "        \"reliability\": sum(counts * (correct_means - prediction_means) ** 2) / size,\n",
        "        \"resolution\": sum(counts * (correct_means - answer_mean) ** 2) / size,\n",
        "        \"uncertainty\": answer_mean * (1 - answer_mean),\n",
        "        \"detail\": {\n",
        "            \"bin_count\": bins,\n",
        "            \"bin_counts\": list(counts),\n",
        "            \"bin_prediction_means\": list(prediction_means),\n",
        "            \"bin_correct_means\": list(correct_means),\n",
        "        }\n",
        "    }\n",
        "\n",
        "\n",
        "def plot_brier(predictions, real, bins=20):\n",
        "    brier = load_brier(predictions, real, bins=bins)\n",
        "    bin_prediction_means = brier['detail']['bin_prediction_means']\n",
        "    bin_correct_means = brier['detail']['bin_correct_means']\n",
        "    bin_counts = brier['detail']['bin_counts']\n",
        "    r2 = r2_score(bin_correct_means, bin_prediction_means, sample_weight=bin_counts)\n",
        "    rmse = np.sqrt(mean_squared_error(bin_correct_means, bin_prediction_means, sample_weight=bin_counts))\n",
        "    print(f\"R-squared: {r2:.4f}\")\n",
        "    print(f\"RMSE: {rmse:.4f}\")\n",
        "    plt.figure()\n",
        "    plt.plot(bin_prediction_means, bin_correct_means, label='Average actual retention')\n",
        "    plt.plot((0, 1), (0, 1), label='Optimal average actual retention')\n",
        "    bin_count = brier['detail']['bin_count']\n",
        "    counts = np.array(bin_counts)\n",
        "    bins = (np.arange(bin_count) + 0.5) / bin_count\n",
        "    plt.legend(loc='upper center')\n",
        "    plt.xlabel('Predicted Retention')\n",
        "    plt.ylabel('Actual Retention')\n",
        "    plt.twinx()\n",
        "    plt.ylabel('Number of predictions')\n",
        "    plt.bar(bins, counts, width=(0.5 / bin_count), alpha=0.5, label='Number of predictions')\n",
        "    plt.legend(loc='lower center')\n",
        "\n",
        "\n",
        "plot_brier(dataset['p'], dataset['y'], bins=40)\n",
        "plt.show()"
      ]
    }
  ],
  "metadata": {
    "colab": {
      "authorship_tag": "ABX9TyMnk8/Ih2JAJZJ1PBkXQUBC",
      "collapsed_sections": [],
      "provenance": [],
      "toc_visible": true
    },
    "kernelspec": {
      "display_name": "dl",
      "language": "python",
      "name": "python3"
    },
    "language_info": {
      "codemirror_mode": {
        "name": "ipython",
        "version": 3
      },
      "file_extension": ".py",
      "mimetype": "text/x-python",
      "name": "python",
      "nbconvert_exporter": "python",
      "pygments_lexer": "ipython3",
      "version": "3.8.13"
    },
    "vscode": {
      "interpreter": {
        "hash": "46e27ede752268be201d36b7fbc2802b29a11b0bb095abacecc6c0428b93624a"
      }
    }
  },
  "nbformat": 4,
  "nbformat_minor": 0
}
